{
  "cells": [
    {
      "cell_type": "markdown",
      "metadata": {},
      "source": [
        "# Quickstart: Jupyter ile Analiz\n",
        "\n",
        "Bu defter, projedeki modülleri (GEE, indeksler, görselleştirme) kullanarak hızlı bir akış sunar.\n"
      ]
    },
    {
      "cell_type": "markdown",
      "metadata": {},
      "source": [
        "## Önkoşullar\n",
        "- Sanal ortam ve bağımlılıklar: `pip install -r requirements.txt`\n",
        "- Jupyter ve kernel: `pip install notebook jupyterlab ipykernel` ve `python -m ipykernel install --user --name karabuk-wildfire-2025`\n",
        "- GEE kimlik: terminalde `earthengine authenticate` (veya servis hesabı için `EE_SERVICE_ACCOUNT` + `EE_PRIVATE_KEY_FILE`)\n"
      ]
    },
    {
      "cell_type": "code",
      "execution_count": null,
      "metadata": {},
      "outputs": [],
      "source": [
        "# Proje kökünü (src/) import için yola ekle\n",
        "import os, sys\n",
        "ROOT = os.path.abspath('..') if os.path.basename(os.getcwd()) == 'notebooks' else os.path.abspath('.')\n",
        "if ROOT not in sys.path:\n",
        "    sys.path.insert(0, ROOT)\n",
        "\n",
        "from src.utils import ee_init\n",
        "from src.pipeline import run_pipeline\n",
        "from IPython.display import IFrame, display\n",
        "import pandas as pd\n"
      ]
    },
    {
      "cell_type": "code",
      "execution_count": null,
      "metadata": {},
      "outputs": [],
      "source": [
        "# Earth Engine'e bağlan\n",
        "ee_init()\n",
        "\n",
        "# Yol tanımları\n",
        "aoi_path = os.path.join(ROOT, 'data', 'aoi.geojson')\n",
        "out_dir = os.path.join(ROOT, 'results')\n",
        "print('ROOT =', ROOT)\n",
        "print('AOI =', aoi_path)\n",
        "print('OUT =', out_dir)\n"
      ]
    },
    {
      "cell_type": "code",
      "execution_count": null,
      "metadata": {},
      "outputs": [],
      "source": [
        "# Tarih aralıkları\n",
        "pre_start, pre_end = '2025-07-10', '2025-07-25'\n",
        "post_start, post_end = '2025-07-26', '2025-08-10'\n",
        "pre_start, pre_end, post_start, post_end\n"
      ]
    },
    {
      "cell_type": "code",
      "execution_count": null,
      "metadata": {},
      "outputs": [],
      "source": [
        "# Tüm hattı çalıştır (haritalar + özet istatistik)\n",
        "outputs = run_pipeline(\n",
        "    pre_start, pre_end, post_start, post_end,\n",
        "    aoi_geojson=aoi_path, out_dir=out_dir\n",
        ")\n",
        "outputs\n"
      ]
    },
    {
      "cell_type": "code",
      "execution_count": null,
      "metadata": {},
      "outputs": [],
      "source": [
        "# Notebook içinde haritaları gömme (IFrame ile)\n",
        "def rel(p):\n",
        "    try:\n",
        "        return os.path.relpath(p, os.getcwd())\n",
        "    except Exception:\n",
        "        return p\n",
        "\n",
        "display(IFrame(src=rel(outputs['dnbr_map']), width='100%', height=600))\n",
        "display(IFrame(src=rel(outputs['severity_map']), width='100%', height=600))\n"
      ]
    },
    {
      "cell_type": "code",
      "execution_count": null,
      "metadata": {},
      "outputs": [],
      "source": [
        "# Özet istatistikler\n",
        "pd.read_csv(outputs['summary_csv'])\n"
      ]
    }
  ],
  "metadata": {
    "kernelspec": {
      "display_name": "Python 3",
      "language": "python",
      "name": "python3"
    },
    "language_info": {
      "name": "python",
      "version": "3"
    }
  },
  "nbformat": 4,
  "nbformat_minor": 5
}

