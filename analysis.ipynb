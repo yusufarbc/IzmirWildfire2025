{
 "cells": [
  {
   "cell_type": "markdown",
   "id": "b6ecf37b",
   "metadata": {},
   "source": [
    "# izmirwildfire2025 – Analiz Defteri\n",
    "\n",
    "Tek defter akışı: GEE init, AOI, Sentinel‑2 ön işleme, NDVI/NBR, dNDVI/dNBR, şiddet ve folium haritalar.\n",
    "Önkoşullar: `pip install -r requirements.txt` ve bir kez `earthengine authenticate`.\n"
   ]
  },
  {
   "cell_type": "markdown",
   "id": "51b25757",
   "metadata": {},
   "source": [
    "## 0. Önkoşullar\n",
    "\n",
    "Bu defteri çalıştırmadan önce aşağıdaki kurulum adımlarını uygulayın.\n",
    "\n",
    "- Python 3.10+ önerilir ve izole ortam kullanın (venv).\n",
    "- Bağımlılıkları `requirements.txt` üzerinden kurun.\n",
    "\n",
    "Örnek komutlar:\n",
    "\n",
    "```bash\n",
    "python -m venv .venv\n",
    ". .venv/bin/activate  # Windows: .venv\\\\Scripts\\\\activate\n",
    "pip install -r requirements.txt\n",
    "```\n",
    "\n",
    "Not: Bağımlılık çatışmalarını önlemek için her projede ayrı bir sanal ortam önerilir.\n"
   ]
  },
  {
   "cell_type": "markdown",
   "id": "1ab658a9",
   "metadata": {},
   "source": [
    "## 1. Earth Engine Kimlik Doğrulama (bir kez)\n",
    "\n",
    "Google Earth Engine (GEE) API'yi kullanabilmek için önce kimlik doğrulaması yapın.\n",
    "\n",
    "- Kullanıcı hesabı ile interaktif doğrulama:\n",
    "\n",
    "```bash\n",
    "earthengine authenticate\n",
    "```\n",
    "\n",
    "- Alternatif: Servis hesabı ile çalışacaksanız ortam değişkenlerini ayarlayın:\n",
    "\n",
    "```bash\n",
    "export EE_SERVICE_ACCOUNT=\"service-account@project.iam.gserviceaccount.com\"\n",
    "export EE_PRIVATE_KEY_FILE=\"/path/to/key.json\"\n",
    "export EE_PROJECT=\"your-project-id\"\n",
    "```\n",
    "\n",
    "Ardından defterde `ee_init(project=...)` çağrısı yapılır (CLI ve pipeline buna göre çalışır).\n"
   ]
  },
  {
   "cell_type": "code",
   "execution_count": null,
   "id": "84b8b284",
   "metadata": {},
   "outputs": [],
   "source": [
    "# Importlar\n",
    "import os\n",
    "from IPython.display import IFrame, display, Image, HTML\n",
    "import pandas as pd\n",
    "\n",
    "from gee.pipeline import run_pipeline\n",
    "from gee.utils import ee_init\n",
    "from gee.aoi import get_aoi\n",
    "from gee.preprocess import prepare_composite\n",
    "from gee.indices import with_indices\n",
    "from gee.change import compute_diffs, classify_dnbr\n",
    "from gee.visualize import export_report_pngs, export_truecolor_pngs\n"
   ]
  },
  {
   "cell_type": "code",
   "execution_count": null,
   "id": "ffa73223",
   "metadata": {},
   "outputs": [],
   "source": [
    "# Earth Engine proje kimliği (opsiyonel) ve erken başlatma\n",
    "ee_project = 'karabukwildfire2025'\n",
    "try:\n",
    "    ee_init(project=ee_project)\n",
    "    print('Earth Engine initialized.')\n",
    "except Exception as e:\n",
    "    print('Earth Engine init error:', e)\n"
   ]
  },
  {
   "cell_type": "code",
   "execution_count": null,
   "id": "3a510f19",
   "metadata": {},
   "outputs": [],
   "source": [
    "# Parametreler\n",
    "# Tarihler ISO (YYYY-MM-DD)\n",
    "pre_start, pre_end   = '2025-06-10', '2025-06-20'\n",
    "post_start, post_end = '2025-07-25', '2025-08-15'\n",
    "# AOI: kökteki GeoJSON; yoksa İzmir bbox kullanılır\n",
    "aoi_path = 'gee/aoi.geojson'\n",
    "# Çıktı klasörü ve alan çözünürlüğü (m)\n",
    "out_dir = 'results'\n",
    "area_scale = 10\n",
    "\n",
    "print('AOI exists? ', os.path.exists(aoi_path))\n",
    "print('OUT dir   : ', out_dir)\n",
    "(pre_start, pre_end, post_start, post_end)\n"
   ]
  },
  {
   "cell_type": "code",
   "execution_count": null,
   "id": "3ac4c2df",
   "metadata": {},
   "outputs": [],
   "source": [
    "# Doğrulama ve Hızlı Önizleme\n",
    "from datetime import date\n",
    "def _check_dates(a,b,c,d):\n",
    "    da, db, dc, dd = map(date.fromisoformat, (a,b,c,d))\n",
    "    assert da <= db, 'pre_start <= pre_end olmalı'\n",
    "    assert dc <= dd, 'post_start <= post_end olmalı'\n",
    "    return (da, db, dc, dd)\n",
    "try:\n",
    "    _check_dates(pre_start, pre_end, post_start, post_end)\n",
    "    print('Tarih aralıkları geçerli.')\n",
    "except Exception as e:\n",
    "    print('Tarih hatası:', e)\n",
    "\n",
    "if not os.path.exists(aoi_path):\n",
    "    print('AOI dosyası bulunamadı, varsayılan İzmir bbox kullanılacak.')\n",
    "aoi = get_aoi(aoi_path)\n",
    "center = aoi.centroid(10).coordinates().getInfo()\n",
    "print('AOI center (lon,lat):', center)\n",
    "os.makedirs(out_dir, exist_ok=True)\n",
    "print('Çıktı klasörü hazır:', out_dir)\n"
   ]
  },
  {
   "cell_type": "code",
   "execution_count": null,
   "id": "047f5358",
   "metadata": {},
   "outputs": [],
   "source": [
    "# Çalıştır\n",
    "outputs = run_pipeline(\n",
    "    pre_start=pre_start, pre_end=pre_end,\n",
    "    post_start=post_start, post_end=post_end,\n",
    "    aoi_geojson=aoi_path, out_dir=out_dir,\n",
    "    project=ee_project,\n",
    "    area_scale=area_scale\n",
    ")\n",
    "outputs\n"
   ]
  },
  {
   "cell_type": "code",
   "execution_count": null,
   "id": "9ae529bb",
   "metadata": {},
   "outputs": [],
   "source": [
    "# Haritaları defter içinde görüntüle (opsiyonel)\n",
    "from IPython.display import HTML\n",
    "\n",
    "def show_html(path, height=600):\n",
    "    try:\n",
    "        display(IFrame(src=path, width='100%', height=height))\n",
    "    except Exception:\n",
    "        try:\n",
    "            with open(path, 'r', encoding='utf-8') as f:\n",
    "                html = f.read()\n",
    "            display(HTML(html))\n",
    "        except Exception as e:\n",
    "            display(HTML(f\"<div style='color:#a00'>Unable to display {path}: {e}</div>\"))\n"
   ]
  },
  {
   "cell_type": "code",
   "execution_count": null,
   "id": "6570d658",
   "metadata": {},
   "outputs": [],
   "source": [
    "# Özet istatistikler\n",
    "pd.read_csv(outputs['summary_csv'])\n"
   ]
  },
  {
   "cell_type": "code",
   "execution_count": null,
   "id": "4608d7a0",
   "metadata": {},
   "outputs": [],
   "source": [
    "# Rapor PNG'leri (analiz katmanları + doğal renk)\n",
    "from IPython.display import Image, HTML, display\n",
    "import os, base64\n",
    "\n",
    "aoi = get_aoi(aoi_path)\n",
    "pre = with_indices(prepare_composite(aoi, pre_start, pre_end))\n",
    "post = with_indices(prepare_composite(aoi, post_start, post_end))\n",
    "diffs = compute_diffs(pre, post)\n",
    "severity = classify_dnbr(diffs['dNBR'])\n",
    "\n",
    "pngs = export_report_pngs(pre=pre, post=post, diffs=diffs, severity=severity, aoi=aoi, out_dir=out_dir)\n",
    "rgbs = export_truecolor_pngs(pre=pre, post=post, aoi=aoi, out_dir=out_dir)\n",
    "\n",
    "order = [\n",
    "  ('Pre RGB', rgbs.get('pre_rgb_png')),\n",
    "  ('Post RGB', rgbs.get('post_rgb_png')),\n",
    "  ('Pre NDVI', pngs.get('pre_ndvi_png')),\n",
    "  ('Post NDVI', pngs.get('post_ndvi_png')),\n",
    "  ('dNBR', pngs.get('dnbr_png')),\n",
    "  ('Severity', pngs.get('severity_png')),\n",
    "]\n",
    "\n",
    "def show_image(path):\n",
    "    try:\n",
    "        display(Image(filename=path))\n",
    "    except Exception:\n",
    "        try:\n",
    "            with open(path,'rb') as f:\n",
    "                data = base64.b64encode(f.read()).decode('ascii')\n",
    "            display(HTML(f\"<img src='data:image/png;base64,{data}' style='max-width:100%;height:auto;'/>\"))\n",
    "        except Exception as e:\n",
    "            display(HTML(f\"<div style='color:#a00'>Unable to display {path}: {e}</div>\"))\n",
    "\n",
    "for title, p in order:\n",
    "    if not p or not os.path.exists(p):\n",
    "        continue\n",
    "    display(HTML(f\"<h4 style='margin:8px 0'>{title}</h4>\"))\n",
    "    show_image(p)\n"
   ]
  }
 ],
 "metadata": {
  "kernelspec": {
   "display_name": "Python 3",
   "language": "python",
   "name": "python3"
  },
  "language_info": {
   "codemirror_mode": {
    "name": "ipython",
    "version": 3
   },
   "file_extension": ".py",
   "mimetype": "text/x-python",
   "name": "python",
   "nbconvert_exporter": "python",
   "pygments_lexer": "ipython3",
   "version": "3.11.9"
  }
 },
 "nbformat": 4,
 "nbformat_minor": 5
}
