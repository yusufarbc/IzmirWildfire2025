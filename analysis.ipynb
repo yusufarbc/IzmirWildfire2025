{
  "cells": [
    {
      "cell_type": "markdown",
      "id": "b6ecf37b",
      "metadata": {},
      "source": [
        "# KarabukWildfire2025 – Analiz Defteri\n",
        "\n",
        "Tek defter akışı: GEE init, AOI, Sentinel‑2 ön işleme, NDVI/NBR, dNDVI/dNBR, şiddet ve folium haritalar.\n",
        "Önkoşullar: `pip install -r requirements.txt` ve bir kez `earthengine authenticate`.\n"
      ]
    },
    {
      "cell_type": "code",
      "execution_count": null,
      "id": "84b8b284",
      "metadata": {},
      "outputs": [],
      "source": [
        "# Importlar\n",
        "import os\n",
        "from IPython.display import IFrame, display\n",
        "import pandas as pd\n",
        "\n",
        "from src.pipeline import run_pipeline\n",
        "from src.utils import ee_init\n"
      ]
    },
    {
      "cell_type": "code",
      "execution_count": null,
      "id": "ffa73223",
      "metadata": {},
      "outputs": [],
      "source": [
        "# Earth Engine proje kimliği (opsiyonel) ve erken başlatma\n",
        "ee_project = 'karabukwildfire2025'\n",
        "print('EE_PROJECT =', ee_project or '(not set; you may be prompted to authenticate)')\n",
        "try:\n",
        "    ee_init(project=ee_project)\n",
        "    print('Earth Engine initialized.')\n",
        "except Exception as e:\n",
        "    print('Earth Engine init error:', e)\n"
      ]
    },
    {
      "cell_type": "code",
      "execution_count": null,
      "id": "3a510f19",
      "metadata": {},
      "outputs": [],
      "source": [
        "# Parametreler\n",
        "pre_start, pre_end = '2025-07-10', '2025-07-25'\n",
        "post_start, post_end = '2025-07-26', '2025-08-10'\n",
        "aoi_path = 'data/aoi.geojson'  # yoksa varsayılan Karabük bbox kullanılır\n",
        "out_dir = 'results'\n",
        "\n",
        "print('AOI exists? ', os.path.exists(aoi_path))\n",
        "print('OUT dir   : ', out_dir)\n",
        "pre_start, pre_end, post_start, post_end\n"
      ]
    },
    {
      "cell_type": "code",
      "execution_count": null,
      "id": "047f5358",
      "metadata": {},
      "outputs": [],
      "source": [
        "# Çalıştır\n",
        "outputs = run_pipeline(\n",
        "    pre_start=pre_start, pre_end=pre_end,\n",
        "    post_start=post_start, post_end=post_end,\n",
        "    aoi_geojson=aoi_path, out_dir=out_dir,\n",
        "    project=ee_project\n",
        ")\n",
        "outputs\n"
      ]
    },
    {
      "cell_type": "code",
      "execution_count": null,
      "id": "9ae529bb",
      "metadata": {},
      "outputs": [],
      "source": [
        "# Haritaları defter içinde görüntüle (opsiyonel)\n",
        "display(IFrame(src=outputs['pre_ndvi_map'], width='100%', height=480))\n",
        "display(IFrame(src=outputs['post_ndvi_map'], width='100%', height=480))\n",
        "display(IFrame(src=outputs['pre_nbr_map'], width='100%', height=480))\n",
        "display(IFrame(src=outputs['post_nbr_map'], width='100%', height=480))\n",
        "display(IFrame(src=outputs['dnbr_map'], width='100%', height=600))\n",
        "display(IFrame(src=outputs['severity_map'], width='100%', height=600))\n"
      ]
    },
    {
      "cell_type": "code",
      "execution_count": null,
      "id": "6570d658",
      "metadata": {},
      "outputs": [],
      "source": [
        "# Özet istatistikler\n",
        "pd.read_csv(outputs['summary_csv'])\n"
      ]
    },
    {
      "cell_type": "code",
      "execution_count": null,
      "id": "4608d7a0",
      "metadata": {},
      "outputs": [],
      "source": [
        "# Rapor PNG'leri (analiz katmanları + doğal renk)\n",
        "from src.gee.aoi import get_aoi\n",
        "from src.gee.preprocess import prepare_composite\n",
        "from src.gee.indices import with_indices\n",
        "from src.gee.change import compute_diffs, classify_dnbr\n",
        "from src.visualize import export_report_pngs, export_truecolor_pngs\n",
        "from IPython.display import HTML, display\n",
        "import os, base64\n",
        "\n",
        "def show_png(path):\n",
        "    web = 'files/' + path.replace('\\\\','/').replace('\\\\\\\\','/')\n",
        "    return HTML(f\"<img src='{web}' style='max-width:100%;height:auto;'/>\")\n",
        "\n",
        "def show_png_inline(path):\n",
        "    with open(path,'rb') as f:\n",
        "        data = base64.b64encode(f.read()).decode('ascii')\n",
        "    return HTML(f\"<img src='data:image/png;base64,{data}' style='max-width:100%;height:auto;'/>\")\n",
        "\n",
        "aoi = get_aoi(aoi_path)\n",
        "pre = with_indices(prepare_composite(aoi, pre_start, pre_end))\n",
        "post = with_indices(prepare_composite(aoi, post_start, post_end))\n",
        "diffs = compute_diffs(pre, post)\n",
        "severity = classify_dnbr(diffs['dNBR'])\n",
        "\n",
        "pngs = export_report_pngs(pre=pre, post=post, diffs=diffs, severity=severity, aoi=aoi, out_dir=out_dir)\n",
        "rgbs = export_truecolor_pngs(pre=pre, post=post, aoi=aoi, out_dir=out_dir)\n",
        "\n",
        "order = [\n",
        "  ('Pre RGB', rgbs.get('pre_rgb_png')),\n",
        "  ('Post RGB', rgbs.get('post_rgb_png')),\n",
        "  ('Pre NDVI', pngs.get('pre_ndvi_png')),\n",
        "  ('Post NDVI', pngs.get('post_ndvi_png')),\n",
        "  ('dNBR', pngs.get('dnbr_png')),\n",
        "  ('Severity', pngs.get('severity_png')),\n",
        "]\n",
        "for title, p in order:\n",
        "    if not p:\n",
        "        continue\n",
        "    try:\n",
        "        display(HTML(f\"<h4 style='margin:8px 0'>{title}</h4>\"))\n",
        "        display(show_png(p))\n",
        "    except Exception:\n",
        "        display(show_png_inline(p))\n"
      ]
    }
  ],
  "metadata": {
    "kernelspec": {
      "display_name": ".venv311",
      "language": "python",
      "name": "python3"
    },
    "language_info": {
      "codemirror_mode": {
        "name": "ipython",
        "version": 3
      },
      "file_extension": ".py",
      "mimetype": "text/x-python",
      "name": "python",
      "nbconvert_exporter": "python",
      "pygments_lexer": "ipython3",
      "version": "3.11.9"
    }
  },
  "nbformat": 4,
  "nbformat_minor": 5
}