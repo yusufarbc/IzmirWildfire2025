{
  "cells": [
    {
      "cell_type": "markdown",
      "id": "b6ecf37b",
      "metadata": {},
      "source": [
        "# KarabukWildfire2025 – Analiz Defteri\n",
        "\n",
        "Tek defter akışı: GEE init, AOI, Sentinel‑2 ön işleme, NDVI/NBR, dNDVI/dNBR, şiddet ve folium haritalar.\n",
        "Önkoşullar: `pip install -r requirements.txt` ve bir kez `earthengine authenticate`.\n"
      ]
    },
    {
      "cell_type": "code",
      "execution_count": 1,
      "id": "84b8b284",
      "metadata": {},
      "outputs": [],
      "source": [
        "# Importlar\n",
        "import os\n",
        "from IPython.display import IFrame, display\n",
        "import pandas as pd\n",
        "\n",
        "from src.pipeline import run_pipeline\n",
        "from src.utils import ee_init\n"
      ]
    },
    {
      "cell_type": "code",
      "execution_count": 2,
      "id": "ffa73223",
      "metadata": {},
      "outputs": [
        {
          "name": "stdout",
          "output_type": "stream",
          "text": [
            "EE_PROJECT = karabukwildfire2025\n",
            "Earth Engine initialized.\n"
          ]
        }
      ],
      "source": [
        "# Earth Engine proje kimliği (opsiyonel) ve erken başlatma\n",
        "ee_project = 'karabukwildfire2025'\n",
        "print('EE_PROJECT =', ee_project or '(not set; you may be prompted to authenticate)')\n",
        "try:\n",
        "    ee_init(project=ee_project)\n",
        "    print('Earth Engine initialized.')\n",
        "except Exception as e:\n",
        "    print('Earth Engine init error:', e)\n"
      ]
    },
    {
      "cell_type": "code",
      "execution_count": 3,
      "id": "3a510f19",
      "metadata": {},
      "outputs": [
        {
          "name": "stdout",
          "output_type": "stream",
          "text": [
            "AOI exists?  True\n",
            "OUT dir   :  results\n"
          ]
        },
        {
          "data": {
            "text/plain": [
              "('2025-07-10', '2025-07-25', '2025-07-26', '2025-08-10')"
            ]
          },
          "execution_count": 3,
          "metadata": {},
          "output_type": "execute_result"
        }
      ],
      "source": [
        "# Parametreler\n",
        "pre_start, pre_end = '2025-07-10', '2025-07-25'\n",
        "post_start, post_end = '2025-07-26', '2025-08-10'\n",
        "aoi_path = 'data/aoi.geojson'  # yoksa varsayılan Karabük bbox kullanılır\n",
        "out_dir = 'results'\n",
        "\n",
        "print('AOI exists? ', os.path.exists(aoi_path))\n",
        "print('OUT dir   : ', out_dir)\n",
        "pre_start, pre_end, post_start, post_end\n"
      ]
    },
    {
      "cell_type": "code",
      "execution_count": 4,
      "id": "047f5358",
      "metadata": {},
      "outputs": [
        {
          "data": {
            "text/plain": [
              "{'pre_ndvi_map': 'results\\\\pre_NDVI.html',\n",
              " 'post_ndvi_map': 'results\\\\post_NDVI.html',\n",
              " 'pre_nbr_map': 'results\\\\pre_NBR.html',\n",
              " 'post_nbr_map': 'results\\\\post_NBR.html',\n",
              " 'dndvi_map': 'results\\\\dNDVI.html',\n",
              " 'dnbr_map': 'results\\\\dNBR.html',\n",
              " 'severity_map': 'results\\\\severity.html',\n",
              " 'summary_csv': 'results\\\\summary_stats.csv'}"
            ]
          },
          "execution_count": 4,
          "metadata": {},
          "output_type": "execute_result"
        }
      ],
      "source": [
        "# Çalıştır\n",
        "outputs = run_pipeline(\n",
        "    pre_start=pre_start, pre_end=pre_end,\n",
        "    post_start=post_start, post_end=post_end,\n",
        "    aoi_geojson=aoi_path, out_dir=out_dir,\n",
        "    project=ee_project\n",
        ")\n",
        "outputs\n"
      ]
    },
    {
      "cell_type": "code",
      "execution_count": 5,
      "id": "9ae529bb",
      "metadata": {},
      "outputs": [
        {
          "data": {
            "text/html": [
              "\n",
              "        <iframe\n",
              "            width=\"100%\"\n",
              "            height=\"480\"\n",
              "            src=\"results\\pre_NDVI.html\"\n",
              "            frameborder=\"0\"\n",
              "            allowfullscreen\n",
              "            \n",
              "        ></iframe>\n",
              "        "
            ],
            "text/plain": [
              "<IPython.lib.display.IFrame at 0x1c59aee5610>"
            ]
          },
          "metadata": {},
          "output_type": "display_data"
        },
        {
          "data": {
            "text/html": [
              "\n",
              "        <iframe\n",
              "            width=\"100%\"\n",
              "            height=\"480\"\n",
              "            src=\"results\\post_NDVI.html\"\n",
              "            frameborder=\"0\"\n",
              "            allowfullscreen\n",
              "            \n",
              "        ></iframe>\n",
              "        "
            ],
            "text/plain": [
              "<IPython.lib.display.IFrame at 0x1c5e9579550>"
            ]
          },
          "metadata": {},
          "output_type": "display_data"
        },
        {
          "data": {
            "text/html": [
              "\n",
              "        <iframe\n",
              "            width=\"100%\"\n",
              "            height=\"480\"\n",
              "            src=\"results\\pre_NBR.html\"\n",
              "            frameborder=\"0\"\n",
              "            allowfullscreen\n",
              "            \n",
              "        ></iframe>\n",
              "        "
            ],
            "text/plain": [
              "<IPython.lib.display.IFrame at 0x1c59ae3f7d0>"
            ]
          },
          "metadata": {},
          "output_type": "display_data"
        },
        {
          "data": {
            "text/html": [
              "\n",
              "        <iframe\n",
              "            width=\"100%\"\n",
              "            height=\"480\"\n",
              "            src=\"results\\post_NBR.html\"\n",
              "            frameborder=\"0\"\n",
              "            allowfullscreen\n",
              "            \n",
              "        ></iframe>\n",
              "        "
            ],
            "text/plain": [
              "<IPython.lib.display.IFrame at 0x1c59b1645d0>"
            ]
          },
          "metadata": {},
          "output_type": "display_data"
        },
        {
          "data": {
            "text/html": [
              "\n",
              "        <iframe\n",
              "            width=\"100%\"\n",
              "            height=\"600\"\n",
              "            src=\"results\\dNBR.html\"\n",
              "            frameborder=\"0\"\n",
              "            allowfullscreen\n",
              "            \n",
              "        ></iframe>\n",
              "        "
            ],
            "text/plain": [
              "<IPython.lib.display.IFrame at 0x1c59aee5cd0>"
            ]
          },
          "metadata": {},
          "output_type": "display_data"
        },
        {
          "data": {
            "text/html": [
              "\n",
              "        <iframe\n",
              "            width=\"100%\"\n",
              "            height=\"600\"\n",
              "            src=\"results\\severity.html\"\n",
              "            frameborder=\"0\"\n",
              "            allowfullscreen\n",
              "            \n",
              "        ></iframe>\n",
              "        "
            ],
            "text/plain": [
              "<IPython.lib.display.IFrame at 0x1c59aee5cd0>"
            ]
          },
          "metadata": {},
          "output_type": "display_data"
        }
      ],
      "source": [
        "# Haritaları defter içinde görüntüle (opsiyonel)\n",
        "display(IFrame(src=outputs['pre_ndvi_map'], width='100%', height=480))\n",
        "display(IFrame(src=outputs['post_ndvi_map'], width='100%', height=480))\n",
        "display(IFrame(src=outputs['pre_nbr_map'], width='100%', height=480))\n",
        "display(IFrame(src=outputs['post_nbr_map'], width='100%', height=480))\n",
        "display(IFrame(src=outputs['dnbr_map'], width='100%', height=600))\n",
        "display(IFrame(src=outputs['severity_map'], width='100%', height=600))\n"
      ]
    },
    {
      "cell_type": "code",
      "execution_count": 6,
      "metadata": {},
      "outputs": [
        {
          "data": {
            "text/html": [
              "<div>\n",
              "<style scoped>\n",
              "    .dataframe tbody tr th:only-of-type {\n",
              "        vertical-align: middle;\n",
              "    }\n",
              "\n",
              "    .dataframe tbody tr th {\n",
              "        vertical-align: top;\n",
              "    }\n",
              "\n",
              "    .dataframe thead th {\n",
              "        text-align: right;\n",
              "    }\n",
              "</style>\n",
              "<table border=\"1\" class=\"dataframe\">\n",
              "  <thead>\n",
              "    <tr style=\"text-align: right;\">\n",
              "      <th></th>\n",
              "      <th>metric</th>\n",
              "      <th>value</th>\n",
              "    </tr>\n",
              "  </thead>\n",
              "  <tbody>\n",
              "    <tr>\n",
              "      <th>0</th>\n",
              "      <td>pre_mean_NDVI</td>\n",
              "      <td>0.556089</td>\n",
              "    </tr>\n",
              "    <tr>\n",
              "      <th>1</th>\n",
              "      <td>post_mean_NDVI</td>\n",
              "      <td>0.498622</td>\n",
              "    </tr>\n",
              "    <tr>\n",
              "      <th>2</th>\n",
              "      <td>mean_dNDVI</td>\n",
              "      <td>-0.057467</td>\n",
              "    </tr>\n",
              "    <tr>\n",
              "      <th>3</th>\n",
              "      <td>mean_dNBR</td>\n",
              "      <td>0.060281</td>\n",
              "    </tr>\n",
              "  </tbody>\n",
              "</table>\n",
              "</div>"
            ],
            "text/plain": [
              "           metric     value\n",
              "0   pre_mean_NDVI  0.556089\n",
              "1  post_mean_NDVI  0.498622\n",
              "2      mean_dNDVI -0.057467\n",
              "3       mean_dNBR  0.060281"
            ]
          },
          "execution_count": 6,
          "metadata": {},
          "output_type": "execute_result"
        }
      ],
      "source": [
        "# Özet istatistikler\n",
        "pd.read_csv(outputs['summary_csv'])\n"
      ]
    }
  ],
  "metadata": {
    "kernelspec": {
      "display_name": ".venv311",
      "language": "python",
      "name": "python3"
    },
    "language_info": {
      "codemirror_mode": {
        "name": "ipython",
        "version": 3
      },
      "file_extension": ".py",
      "mimetype": "text/x-python",
      "name": "python",
      "nbconvert_exporter": "python",
      "pygments_lexer": "ipython3",
      "version": "3.11.9"
    }
  },
  "nbformat": 4,
  "nbformat_minor": 5
}
