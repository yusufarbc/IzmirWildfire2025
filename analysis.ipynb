{
  "cells": [
    {"cell_type": "markdown", "metadata": {}, "source": [
      "# KarabukWildfire2025 – Analysis Notebook\n",
      "\n",
      "Tek notebook ile akış: GEE init, AOI, S2 ön işleme, NDVI/NBR, dNDVI/dNBR, şiddet ve folium haritaları.\n",
      "Önkoşullar: `pip install -r requirements.txt`, bir kez `earthengine authenticate`.\n"
    ]},
    {"cell_type": "code", "execution_count": null, "metadata": {}, "outputs": [], "source": [
      "# Importlar\n",
      "import os\n",
      "from IPython.display import IFrame, display\n",
      "import pandas as pd\n",
      "\n",
      "from src.pipeline import run_pipeline\n"
    ]},
    {"cell_type": "code", "execution_count": null, "metadata": {}, "outputs": [], "source": [
      "# Parametreler\n",
      "pre_start, pre_end = '2025-07-10', '2025-07-25'\n",
      "post_start, post_end = '2025-07-26', '2025-08-10'\n",
      "aoi_path = 'data/aoi.geojson'  # yoksa varsayılan Karabük bbox kullanılır\n",
      "out_dir = 'results'\n",
      "pre_start, pre_end, post_start, post_end, aoi_path, out_dir\n"
    ]},
    {"cell_type": "code", "execution_count": null, "metadata": {}, "outputs": [], "source": [
      "# Çalıştır\n",
      "outputs = run_pipeline(\n",
      "    pre_start=pre_start, pre_end=pre_end,\n",
      "    post_start=post_start, post_end=post_end,\n",
      "    aoi_geojson=aoi_path, out_dir=out_dir\n",
      ")\n",
      "outputs\n"
    ]},
    {"cell_type": "code", "execution_count": null, "metadata": {}, "outputs": [], "source": [
      "# Haritaları defter içinde görüntüle (opsiyonel)\n",
      "display(IFrame(src=outputs['dnbr_map'], width='100%', height=600))\n",
      "display(IFrame(src=outputs['severity_map'], width='100%', height=600))\n"
    ]},
    {"cell_type": "code", "execution_count": null, "metadata": {}, "outputs": [], "source": [
      "# Özet istatistikler\n",
      "pd.read_csv(outputs['summary_csv'])\n"
    ]}
  ],
  "metadata": {
    "kernelspec": {"display_name": "Python 3", "language": "python", "name": "python3"},
    "language_info": {"name": "python", "version": "3"}
  },
  "nbformat": 4,
  "nbformat_minor": 5
}

