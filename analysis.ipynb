{
 "cells": [
  {
   "cell_type": "markdown",
   "id": "b6ecf37b",
   "metadata": {},
   "source": [
    "# KarabukWildfire2025 – Analiz Defteri\n",
    "\n",
    "Tek defter akışı: GEE init, AOI, Sentinel‑2 ön işleme, NDVI/NBR, dNDVI/dNBR, şiddet ve folium haritalar.\n",
    "Önkoşullar: `pip install -r requirements.txt` ve bir kez `earthengine authenticate`.\n"
   ]
  },
  {
   "cell_type": "code",
   "execution_count": 1,
   "id": "84b8b284",
   "metadata": {},
   "outputs": [],
   "source": [
    "# Importlar\n",
    "import os\n",
    "from IPython.display import IFrame, display\n",
    "import pandas as pd\n",
    "\n",
    "from src.pipeline import run_pipeline\n",
    "from src.utils import ee_init\n"
   ]
  },
  {
   "cell_type": "code",
   "execution_count": 2,
   "id": "ffa73223",
   "metadata": {},
   "outputs": [
    {
     "name": "stdout",
     "output_type": "stream",
     "text": [
      "EE_PROJECT = karabukwildfire2025\n",
      "Earth Engine initialized.\n"
     ]
    }
   ],
   "source": [
    "# Earth Engine proje kimliği (opsiyonel) ve erken başlatma\n",
    "ee_project = 'karabukwildfire2025'\n",
    "print('EE_PROJECT =', ee_project or '(not set; you may be prompted to authenticate)')\n",
    "try:\n",
    "    ee_init(project=ee_project)\n",
    "    print('Earth Engine initialized.')\n",
    "except Exception as e:\n",
    "    print('Earth Engine init error:', e)\n"
   ]
  },
  {
   "cell_type": "code",
   "execution_count": 3,
   "id": "3a510f19",
   "metadata": {},
   "outputs": [
    {
     "name": "stdout",
     "output_type": "stream",
     "text": [
      "AOI exists?  True\n",
      "OUT dir   :  results\n"
     ]
    },
    {
     "data": {
      "text/plain": [
       "('2025-07-10', '2025-07-25', '2025-07-26', '2025-08-10')"
      ]
     },
     "execution_count": 3,
     "metadata": {},
     "output_type": "execute_result"
    }
   ],
   "source": [
    "# Parametreler\n",
    "pre_start, pre_end = '2025-07-10', '2025-07-25'\n",
    "post_start, post_end = '2025-07-26', '2025-08-10'\n",
    "aoi_path = 'src/aoi.geojson'  # yoksa varsayılan Karabük bbox kullanılır\n",
    "out_dir = 'results'\n",
    "\n",
    "print('AOI exists? ', os.path.exists(aoi_path))\n",
    "print('OUT dir   : ', out_dir)\n",
    "pre_start, pre_end, post_start, post_end\n"
   ]
  },
  {
   "cell_type": "code",
   "execution_count": 4,
   "id": "047f5358",
   "metadata": {},
   "outputs": [
    {
     "data": {
      "text/plain": [
       "{'pre_rgb_map': 'results\\\\pre_RGB_2025-07-10_2025-07-25.html',\n",
       " 'post_rgb_map': 'results\\\\post_RGB_2025-07-26_2025-08-10.html',\n",
       " 'pre_ndvi_map': 'results\\\\pre_NDVI.html',\n",
       " 'post_ndvi_map': 'results\\\\post_NDVI.html',\n",
       " 'pre_nbr_map': 'results\\\\pre_NBR.html',\n",
       " 'post_nbr_map': 'results\\\\post_NBR.html',\n",
       " 'dndvi_map': 'results\\\\dNDVI.html',\n",
       " 'dnbr_map': 'results\\\\dNBR.html',\n",
       " 'severity_map': 'results\\\\severity.html',\n",
       " 'summary_csv': 'results\\\\summary_stats.csv'}"
      ]
     },
     "execution_count": 4,
     "metadata": {},
     "output_type": "execute_result"
    }
   ],
   "source": [
    "# Çalıştır\n",
    "outputs = run_pipeline(\n",
    "    pre_start=pre_start, pre_end=pre_end,\n",
    "    post_start=post_start, post_end=post_end,\n",
    "    aoi_geojson=aoi_path, out_dir=out_dir,\n",
    "    project=ee_project\n",
    ")\n",
    "outputs\n"
   ]
  },
  {
   "cell_type": "code",
   "execution_count": 5,
   "id": "9ae529bb",
   "metadata": {},
   "outputs": [
    {
     "data": {
      "text/html": [
       "\n",
       "        <iframe\n",
       "            width=\"100%\"\n",
       "            height=\"480\"\n",
       "            src=\"results\\pre_NDVI.html\"\n",
       "            frameborder=\"0\"\n",
       "            allowfullscreen\n",
       "            \n",
       "        ></iframe>\n",
       "        "
      ],
      "text/plain": [
       "<IPython.lib.display.IFrame at 0x1dbc537d290>"
      ]
     },
     "metadata": {},
     "output_type": "display_data"
    },
    {
     "data": {
      "text/html": [
       "\n",
       "        <iframe\n",
       "            width=\"100%\"\n",
       "            height=\"480\"\n",
       "            src=\"results\\post_NDVI.html\"\n",
       "            frameborder=\"0\"\n",
       "            allowfullscreen\n",
       "            \n",
       "        ></iframe>\n",
       "        "
      ],
      "text/plain": [
       "<IPython.lib.display.IFrame at 0x1dbc537d290>"
      ]
     },
     "metadata": {},
     "output_type": "display_data"
    },
    {
     "data": {
      "text/html": [
       "\n",
       "        <iframe\n",
       "            width=\"100%\"\n",
       "            height=\"480\"\n",
       "            src=\"results\\pre_NBR.html\"\n",
       "            frameborder=\"0\"\n",
       "            allowfullscreen\n",
       "            \n",
       "        ></iframe>\n",
       "        "
      ],
      "text/plain": [
       "<IPython.lib.display.IFrame at 0x1dbc4d24bd0>"
      ]
     },
     "metadata": {},
     "output_type": "display_data"
    },
    {
     "data": {
      "text/html": [
       "\n",
       "        <iframe\n",
       "            width=\"100%\"\n",
       "            height=\"480\"\n",
       "            src=\"results\\post_NBR.html\"\n",
       "            frameborder=\"0\"\n",
       "            allowfullscreen\n",
       "            \n",
       "        ></iframe>\n",
       "        "
      ],
      "text/plain": [
       "<IPython.lib.display.IFrame at 0x1dbc52d9ad0>"
      ]
     },
     "metadata": {},
     "output_type": "display_data"
    },
    {
     "data": {
      "text/html": [
       "\n",
       "        <iframe\n",
       "            width=\"100%\"\n",
       "            height=\"600\"\n",
       "            src=\"results\\dNBR.html\"\n",
       "            frameborder=\"0\"\n",
       "            allowfullscreen\n",
       "            \n",
       "        ></iframe>\n",
       "        "
      ],
      "text/plain": [
       "<IPython.lib.display.IFrame at 0x1dbc4cea010>"
      ]
     },
     "metadata": {},
     "output_type": "display_data"
    },
    {
     "data": {
      "text/html": [
       "\n",
       "        <iframe\n",
       "            width=\"100%\"\n",
       "            height=\"600\"\n",
       "            src=\"results\\severity.html\"\n",
       "            frameborder=\"0\"\n",
       "            allowfullscreen\n",
       "            \n",
       "        ></iframe>\n",
       "        "
      ],
      "text/plain": [
       "<IPython.lib.display.IFrame at 0x1dbc4a3fa90>"
      ]
     },
     "metadata": {},
     "output_type": "display_data"
    }
   ],
   "source": [
    "# Haritaları defter içinde görüntüle (opsiyonel)\n",
    "from IPython.display import HTML\n",
    "\n",
    "def show_html(path, height=600):\n",
    "    try:\n",
    "        display(IFrame(src=path, width='100%', height=height))\n",
    "    except Exception:\n",
    "        try:\n",
    "            with open(path, 'r', encoding='utf-8') as f:\n",
    "                html = f.read()\n",
    "            display(HTML(html))\n",
    "        except Exception as e:\n",
    "            display(HTML(f\"<div style='color:#a00'>Unable to display {path}: {e}</div>\"))\n",
    "\n",
    "show_html(outputs['pre_ndvi_map'], height=480)\n",
    "show_html(outputs['post_ndvi_map'], height=480)\n",
    "show_html(outputs['pre_nbr_map'], height=480)\n",
    "show_html(outputs['post_nbr_map'], height=480)\n",
    "show_html(outputs['dnbr_map'], height=600)\n",
    "show_html(outputs['severity_map'], height=600)\n"
   ]
  },
  {
   "cell_type": "code",
   "execution_count": 6,
   "id": "6570d658",
   "metadata": {},
   "outputs": [
    {
     "data": {
      "text/html": [
       "<div>\n",
       "<style scoped>\n",
       "    .dataframe tbody tr th:only-of-type {\n",
       "        vertical-align: middle;\n",
       "    }\n",
       "\n",
       "    .dataframe tbody tr th {\n",
       "        vertical-align: top;\n",
       "    }\n",
       "\n",
       "    .dataframe thead th {\n",
       "        text-align: right;\n",
       "    }\n",
       "</style>\n",
       "<table border=\"1\" class=\"dataframe\">\n",
       "  <thead>\n",
       "    <tr style=\"text-align: right;\">\n",
       "      <th></th>\n",
       "      <th>metric</th>\n",
       "      <th>value</th>\n",
       "    </tr>\n",
       "  </thead>\n",
       "  <tbody>\n",
       "    <tr>\n",
       "      <th>0</th>\n",
       "      <td>pre_mean_NDVI</td>\n",
       "      <td>0.535408</td>\n",
       "    </tr>\n",
       "    <tr>\n",
       "      <th>1</th>\n",
       "      <td>post_mean_NDVI</td>\n",
       "      <td>0.473173</td>\n",
       "    </tr>\n",
       "    <tr>\n",
       "      <th>2</th>\n",
       "      <td>mean_dNDVI</td>\n",
       "      <td>-0.062235</td>\n",
       "    </tr>\n",
       "    <tr>\n",
       "      <th>3</th>\n",
       "      <td>mean_dNBR</td>\n",
       "      <td>0.072990</td>\n",
       "    </tr>\n",
       "  </tbody>\n",
       "</table>\n",
       "</div>"
      ],
      "text/plain": [
       "           metric     value\n",
       "0   pre_mean_NDVI  0.535408\n",
       "1  post_mean_NDVI  0.473173\n",
       "2      mean_dNDVI -0.062235\n",
       "3       mean_dNBR  0.072990"
      ]
     },
     "execution_count": 6,
     "metadata": {},
     "output_type": "execute_result"
    }
   ],
   "source": [
    "# Özet istatistikler\n",
    "pd.read_csv(outputs['summary_csv'])\n"
   ]
  },
  {
   "cell_type": "code",
   "execution_count": 7,
   "id": "4608d7a0",
   "metadata": {},
   "outputs": [
    {
     "data": {
      "text/html": [
       "<h4 style='margin:8px 0'>Pre RGB</h4>"
      ],
      "text/plain": [
       "<IPython.core.display.HTML object>"
      ]
     },
     "metadata": {},
     "output_type": "display_data"
    },
    {
     "data": {
      "text/html": [
       "<img src='files/results/pre_RGB.png' style='max-width:100%;height:auto;'/>"
      ],
      "text/plain": [
       "<IPython.core.display.HTML object>"
      ]
     },
     "metadata": {},
     "output_type": "display_data"
    },
    {
     "data": {
      "text/html": [
       "<h4 style='margin:8px 0'>Post RGB</h4>"
      ],
      "text/plain": [
       "<IPython.core.display.HTML object>"
      ]
     },
     "metadata": {},
     "output_type": "display_data"
    },
    {
     "data": {
      "text/html": [
       "<img src='files/results/post_RGB.png' style='max-width:100%;height:auto;'/>"
      ],
      "text/plain": [
       "<IPython.core.display.HTML object>"
      ]
     },
     "metadata": {},
     "output_type": "display_data"
    },
    {
     "data": {
      "text/html": [
       "<h4 style='margin:8px 0'>Pre NDVI</h4>"
      ],
      "text/plain": [
       "<IPython.core.display.HTML object>"
      ]
     },
     "metadata": {},
     "output_type": "display_data"
    },
    {
     "data": {
      "text/html": [
       "<img src='files/results/pre_NDVI.png' style='max-width:100%;height:auto;'/>"
      ],
      "text/plain": [
       "<IPython.core.display.HTML object>"
      ]
     },
     "metadata": {},
     "output_type": "display_data"
    },
    {
     "data": {
      "text/html": [
       "<h4 style='margin:8px 0'>Post NDVI</h4>"
      ],
      "text/plain": [
       "<IPython.core.display.HTML object>"
      ]
     },
     "metadata": {},
     "output_type": "display_data"
    },
    {
     "data": {
      "text/html": [
       "<img src='files/results/post_NDVI.png' style='max-width:100%;height:auto;'/>"
      ],
      "text/plain": [
       "<IPython.core.display.HTML object>"
      ]
     },
     "metadata": {},
     "output_type": "display_data"
    },
    {
     "data": {
      "text/html": [
       "<h4 style='margin:8px 0'>dNBR</h4>"
      ],
      "text/plain": [
       "<IPython.core.display.HTML object>"
      ]
     },
     "metadata": {},
     "output_type": "display_data"
    },
    {
     "data": {
      "text/html": [
       "<img src='files/results/dNBR.png' style='max-width:100%;height:auto;'/>"
      ],
      "text/plain": [
       "<IPython.core.display.HTML object>"
      ]
     },
     "metadata": {},
     "output_type": "display_data"
    },
    {
     "data": {
      "text/html": [
       "<h4 style='margin:8px 0'>Severity</h4>"
      ],
      "text/plain": [
       "<IPython.core.display.HTML object>"
      ]
     },
     "metadata": {},
     "output_type": "display_data"
    },
    {
     "data": {
      "text/html": [
       "<img src='files/results/severity.png' style='max-width:100%;height:auto;'/>"
      ],
      "text/plain": [
       "<IPython.core.display.HTML object>"
      ]
     },
     "metadata": {},
     "output_type": "display_data"
    }
   ],
   "source": [
    "# Rapor PNG'leri (analiz katmanları + doğal renk)\n",
    "from src.gee.aoi import get_aoi\n",
    "from src.gee.preprocess import prepare_composite\n",
    "from src.gee.indices import with_indices\n",
    "from src.gee.change import compute_diffs, classify_dnbr\n",
    "from src.visualize import export_report_pngs, export_truecolor_pngs\n",
    "from IPython.display import Image, HTML, display\n",
    "import os, base64\n",
    "\n",
    "aoi = get_aoi(aoi_path)\n",
    "pre = with_indices(prepare_composite(aoi, pre_start, pre_end))\n",
    "post = with_indices(prepare_composite(aoi, post_start, post_end))\n",
    "diffs = compute_diffs(pre, post)\n",
    "severity = classify_dnbr(diffs['dNBR'])\n",
    "\n",
    "pngs = export_report_pngs(pre=pre, post=post, diffs=diffs, severity=severity, aoi=aoi, out_dir=out_dir)\n",
    "rgbs = export_truecolor_pngs(pre=pre, post=post, aoi=aoi, out_dir=out_dir)\n",
    "\n",
    "order = [\n",
    "  ('Pre RGB', rgbs.get('pre_rgb_png')),\n",
    "  ('Post RGB', rgbs.get('post_rgb_png')),\n",
    "  ('Pre NDVI', pngs.get('pre_ndvi_png')),\n",
    "  ('Post NDVI', pngs.get('post_ndvi_png')),\n",
    "  ('dNBR', pngs.get('dnbr_png')),\n",
    "  ('Severity', pngs.get('severity_png')),\n",
    "]\n",
    "\n",
    "def show_image(path):\n",
    "    try:\n",
    "        display(Image(filename=path))\n",
    "    except Exception:\n",
    "        try:\n",
    "            with open(path,'rb') as f:\n",
    "                data = base64.b64encode(f.read()).decode('ascii')\n",
    "            display(HTML(f\"<img src='data:image/png;base64,{data}' style='max-width:100%;height:auto;'/>\"))\n",
    "        except Exception as e:\n",
    "            display(HTML(f\"<div style='color:#a00'>Unable to display {path}: {e}</div>\"))\n",
    "\n",
    "for title, p in order:\n",
    "    if not p or not os.path.exists(p):\n",
    "        continue\n",
    "    display(HTML(f\"<h4 style='margin:8px 0'>{title}</h4>\"))\n",
    "    show_image(p)\n"
   ]
  }
 ],
 "metadata": {
  "kernelspec": {
   "display_name": ".venv311",
   "language": "python",
   "name": "python3"
  },
  "language_info": {
   "codemirror_mode": {
    "name": "ipython",
    "version": 3
   },
   "file_extension": ".py",
   "mimetype": "text/x-python",
   "name": "python",
   "nbconvert_exporter": "python",
   "pygments_lexer": "ipython3",
   "version": "3.11.9"
  }
 },
 "nbformat": 4,
 "nbformat_minor": 5
}